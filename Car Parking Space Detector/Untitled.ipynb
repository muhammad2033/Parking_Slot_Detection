{
 "cells": [
  {
   "cell_type": "code",
   "execution_count": null,
   "id": "91b660e6",
   "metadata": {},
   "outputs": [],
   "source": [
    "import cv2\n",
    "import pickle\n",
    "\n",
    "image= cv2.imread('carParkImg.png')\n",
    "width, height = 107, 48\n",
    "posList=[]\n",
    "cv2.rectangle(image,(50,192),(157,240) ,(255,0,255),2)\n",
    "\n",
    "\n",
    "\n",
    "while True:\n",
    "    for pos in posList:\n",
    "        cv2.rectangle(image,pos,(pos[0] + width, pos[1] + height), (255,0,255),2)\n",
    "    cv2.imshow(\"ParkingImage\",image)\n",
    "    \n",
    "    cv2.waitKey(1)"
   ]
  },
  {
   "cell_type": "code",
   "execution_count": null,
   "id": "ac327724",
   "metadata": {},
   "outputs": [],
   "source": []
  },
  {
   "cell_type": "code",
   "execution_count": null,
   "id": "6bcb73f7",
   "metadata": {},
   "outputs": [],
   "source": []
  }
 ],
 "metadata": {
  "kernelspec": {
   "display_name": "Python 3",
   "language": "python",
   "name": "python3"
  },
  "language_info": {
   "codemirror_mode": {
    "name": "ipython",
    "version": 3
   },
   "file_extension": ".py",
   "mimetype": "text/x-python",
   "name": "python",
   "nbconvert_exporter": "python",
   "pygments_lexer": "ipython3",
   "version": "3.8.8"
  }
 },
 "nbformat": 4,
 "nbformat_minor": 5
}
